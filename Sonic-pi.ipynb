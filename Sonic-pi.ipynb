{
 "cells": [
  {
   "cell_type": "code",
   "execution_count": 1,
   "metadata": {},
   "outputs": [],
   "source": [
    "import sys, json, time\n",
    "from threading import Thread, Condition, Event\n",
    "from psonic import *\n",
    "sys.path.append(\"./repo/piplay\")\n",
    "from weather_pilock.SenseHat_Data import Sensor\n",
    "from pysonic.play_weather import Notes, Rates, rescale\n"
   ]
  },
  {
   "cell_type": "code",
   "execution_count": 23,
   "metadata": {},
   "outputs": [],
   "source": [
    "#senseHat.add_stat()\n",
    "#temp = senseHat.sense.temperature_from_humidity.value\n",
    "#print(temp)\n",
    "play(30)\n",
    "sleep(1)\n",
    "play(110)\n",
    "#print(rescale(temp, 40, 110, 50, 80))\n",
    "#play(rescale(temp, 40, 110, 50, 80))\n",
    "#senseHat.clear_stats()\n",
    "#print(beats_per_minute, beats_per_second, collections_per_beat, collection_delay)\n",
    "\n",
    "#senseHat = Sensor()\n",
    "#print(senseHat.sense)\n",
    "#names = list(filter(lambda x: not x.startswith('__') and x., dir(senseHat.sense)))\n",
    "#print(names)\n",
    "#senseHat.touch()\n",
    "#print(senseHat.sense)\n",
    "#print(senseHat.sense.temperature_from_humidity.value)\n",
    "#data = senseHat.sense()\n",
    "#data\n",
    "#json.dumps(senseHat.reading)\n",
    "\n"
   ]
  },
  {
   "cell_type": "code",
   "execution_count": 2,
   "metadata": {},
   "outputs": [],
   "source": [
    "condition = Condition()\n",
    "stop_event = Event()\n",
    "rates = Rates()\n",
    "senseHat = Sensor()\n",
    "\n",
    "def live_m():\n",
    "    sleep(rates.seconds_per_beat)\n",
    "    pass\n",
    "def live_loop_m(condition, stop_event):\n",
    "    while not stop_event.is_set():\n",
    "        with condition:\n",
    "            condition.notifyAll() #Message to threads\n",
    "        live_m()\n",
    "\n",
    "def play_temp():\n",
    "    pass\n",
    "def live_loop_temp(condition, stop_event):\n",
    "     while not stop_event.is_set():\n",
    "        with condition:\n",
    "            condition.wait() #Message to threads\n",
    "        play_temp()\n",
    "\n",
    "def play_pressure():\n",
    "    pass    \n",
    "def live_loop_pressure(condition, stop_event):\n",
    "    while not stop_event.is_set():\n",
    "        with condition:\n",
    "            condition.wait() #Wait for message\n",
    "        play_pressure()\n",
    "\n",
    "def play_humidity():\n",
    "    pass\n",
    "def live_loop_humidity(condition, stop_event):\n",
    "    while not stop_event.is_set():\n",
    "        with condition:\n",
    "            condition.wait() #Wait for message\n",
    "        play_humidity()\n",
    "\n",
    "\n",
    "live_thread_m = Thread(name=\"producer\", target=live_loop_m, args=(condition, stop_event))\n",
    "live_thread_t = Thread(name=\"consumer_temp\", target=live_loop_temp, args=(condition, stop_event))\n",
    "live_thread_1 = Thread(name=\"consumer_pressure\", target=live_loop_pressure, args=(condition, stop_event))\n",
    "live_thread_2 = Thread(name=\"consumer_humidity\", target=live_loop_humidity, args=(condition, stop_event))\n",
    "\n",
    "live_thread_m.start()\n",
    "live_thread_t.start()\n",
    "live_thread_1.start()\n",
    "live_thread_2.start()\n",
    "\n"
   ]
  },
  {
   "cell_type": "code",
   "execution_count": 3,
   "metadata": {},
   "outputs": [],
   "source": [
    "def play_note(senseHat):\n",
    "    while True:\n",
    "        #global senseHat\n",
    "        #senseHat = Sensor()\n",
    "        temp = Notes([rescale(senseHat.sense.temperature_from_humidity), \n",
    "                 rescale(senseHat.sense.temperature_from_pressure)], \n",
    "                     attack = 0.5, \n",
    "                     amp = 0.5\n",
    "                    )\n",
    "        pressure = Notes([rescale(senseHat.sense.pressure) / 2.0],\n",
    "                         attack = 0.5, \n",
    "                         amp = 0.5\n",
    "                        )\n",
    "        humidity = Notes([rescale(senseHat.sense.humidity) / 3.0],\n",
    "                         attack = 0.5, \n",
    "                         amp = 0.5\n",
    "                        )\n",
    "        \n",
    "        global play_temp\n",
    "        def play_temp():\n",
    "            play(temp.notes, attack=temp.attack, decay=temp.decay, sustain=temp.sustain, release=temp.release, amp=temp.amp)\n",
    "            pass\n",
    "    \n",
    "        global play_pressure\n",
    "        def play_pressure():\n",
    "            play(pressure.notes, attack=pressure.attack, decay=pressure.decay, sustain=pressure.sustain, release=pressure.release, amp=pressure.amp)\n",
    "            pass\n",
    "    \n",
    "        global play_humidity\n",
    "        def play_humidity():\n",
    "            play(humidity.notes, attack=humidity.attack, decay=humidity.decay, sustain=humidity.sustain, release=humidity.release, amp=humidity.amp)\n",
    "            pass"
   ]
  },
  {
   "cell_type": "code",
   "execution_count": 4,
   "metadata": {},
   "outputs": [
    {
     "ename": "KeyboardInterrupt",
     "evalue": "",
     "output_type": "error",
     "traceback": [
      "\u001b[0;31m---------------------------------------------------------------------------\u001b[0m",
      "\u001b[0;31mKeyboardInterrupt\u001b[0m                         Traceback (most recent call last)",
      "\u001b[0;32m<ipython-input-4-9f54af6580e2>\u001b[0m in \u001b[0;36m<module>\u001b[0;34m()\u001b[0m\n\u001b[0;32m----> 1\u001b[0;31m \u001b[0mplay_note\u001b[0m\u001b[0;34m(\u001b[0m\u001b[0msenseHat\u001b[0m\u001b[0;34m)\u001b[0m\u001b[0;34m\u001b[0m\u001b[0;34m\u001b[0m\u001b[0m\n\u001b[0m",
      "\u001b[0;32m<ipython-input-3-4fb86706ee9c>\u001b[0m in \u001b[0;36mplay_note\u001b[0;34m(senseHat)\u001b[0m\n\u001b[1;32m      3\u001b[0m         \u001b[0;31m#global senseHat\u001b[0m\u001b[0;34m\u001b[0m\u001b[0;34m\u001b[0m\u001b[0;34m\u001b[0m\u001b[0m\n\u001b[1;32m      4\u001b[0m         \u001b[0;31m#senseHat = Sensor()\u001b[0m\u001b[0;34m\u001b[0m\u001b[0;34m\u001b[0m\u001b[0;34m\u001b[0m\u001b[0m\n\u001b[0;32m----> 5\u001b[0;31m         temp = Notes([rescale(senseHat.sense.temperature_from_humidity), \n\u001b[0m\u001b[1;32m      6\u001b[0m                  rescale(senseHat.sense.temperature_from_pressure)], \n\u001b[1;32m      7\u001b[0m                      \u001b[0mattack\u001b[0m \u001b[0;34m=\u001b[0m \u001b[0;36m0.5\u001b[0m\u001b[0;34m,\u001b[0m\u001b[0;34m\u001b[0m\u001b[0;34m\u001b[0m\u001b[0m\n",
      "\u001b[0;32m/home/pi/repo/piplay/pysonic/play_weather.py\u001b[0m in \u001b[0;36mrescale\u001b[0;34m(reading, new_min, new_max)\u001b[0m\n\u001b[1;32m      6\u001b[0m \u001b[0;34m\u001b[0m\u001b[0m\n\u001b[1;32m      7\u001b[0m \u001b[0;32mdef\u001b[0m \u001b[0mrescale\u001b[0m\u001b[0;34m(\u001b[0m\u001b[0mreading\u001b[0m\u001b[0;34m,\u001b[0m \u001b[0mnew_min\u001b[0m \u001b[0;34m=\u001b[0m \u001b[0;36m30.0\u001b[0m\u001b[0;34m,\u001b[0m \u001b[0mnew_max\u001b[0m \u001b[0;34m=\u001b[0m \u001b[0;36m110.0\u001b[0m\u001b[0;34m)\u001b[0m\u001b[0;34m:\u001b[0m\u001b[0;34m\u001b[0m\u001b[0;34m\u001b[0m\u001b[0m\n\u001b[0;32m----> 8\u001b[0;31m     \u001b[0;32mreturn\u001b[0m \u001b[0;34m(\u001b[0m\u001b[0;34m(\u001b[0m\u001b[0mnew_max\u001b[0m \u001b[0;34m-\u001b[0m \u001b[0mnew_min\u001b[0m\u001b[0;34m)\u001b[0m \u001b[0;34m*\u001b[0m \u001b[0;34m(\u001b[0m\u001b[0;34m(\u001b[0m\u001b[0mreading\u001b[0m\u001b[0;34m.\u001b[0m\u001b[0mvalue\u001b[0m \u001b[0;34m-\u001b[0m \u001b[0mreading\u001b[0m\u001b[0;34m.\u001b[0m\u001b[0mmin_value\u001b[0m\u001b[0;34m)\u001b[0m \u001b[0;34m/\u001b[0m \u001b[0;34m(\u001b[0m\u001b[0mreading\u001b[0m\u001b[0;34m.\u001b[0m\u001b[0mmax_value\u001b[0m \u001b[0;34m-\u001b[0m \u001b[0mreading\u001b[0m\u001b[0;34m.\u001b[0m\u001b[0mmin_value\u001b[0m\u001b[0;34m)\u001b[0m\u001b[0;34m)\u001b[0m\u001b[0;34m)\u001b[0m \u001b[0;34m+\u001b[0m \u001b[0mnew_min\u001b[0m\u001b[0;34m\u001b[0m\u001b[0;34m\u001b[0m\u001b[0m\n\u001b[0m\u001b[1;32m      9\u001b[0m \u001b[0;34m\u001b[0m\u001b[0m\n\u001b[1;32m     10\u001b[0m \u001b[0;32mclass\u001b[0m \u001b[0mNotes\u001b[0m\u001b[0;34m(\u001b[0m\u001b[0mJsonSerializable\u001b[0m\u001b[0;34m)\u001b[0m\u001b[0;34m:\u001b[0m\u001b[0;34m\u001b[0m\u001b[0;34m\u001b[0m\u001b[0m\n",
      "\u001b[0;31mKeyboardInterrupt\u001b[0m: "
     ]
    }
   ],
   "source": [
    "play_note(senseHat)"
   ]
  },
  {
   "cell_type": "code",
   "execution_count": 5,
   "metadata": {},
   "outputs": [],
   "source": [
    "stop_event.set()"
   ]
  },
  {
   "cell_type": "code",
   "execution_count": null,
   "metadata": {},
   "outputs": [],
   "source": []
  }
 ],
 "metadata": {
  "kernelspec": {
   "display_name": "Python 3",
   "language": "python",
   "name": "python3"
  },
  "language_info": {
   "codemirror_mode": {
    "name": "ipython",
    "version": 3
   },
   "file_extension": ".py",
   "mimetype": "text/x-python",
   "name": "python",
   "nbconvert_exporter": "python",
   "pygments_lexer": "ipython3",
   "version": "3.7.3"
  }
 },
 "nbformat": 4,
 "nbformat_minor": 2
}
