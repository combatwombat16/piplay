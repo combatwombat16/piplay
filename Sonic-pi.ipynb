{
 "cells": [
  {
   "cell_type": "code",
   "execution_count": 5,
   "metadata": {},
   "outputs": [],
   "source": [
    "import sys, json, time\n",
    "from threading import Thread, Condition, Event\n",
    "from psonic import *\n",
    "sys.path.append(\"./repo/piplay\")\n",
    "from weather_pilock.SenseHat_Data import Sensor\n",
    "from pysonic.play_weather import Notes, Rates, rescale\n",
    "from helpers.helpers import *\n",
    "\n",
    "golden_ratio = golden()\n"
   ]
  },
  {
   "cell_type": "code",
   "execution_count": 6,
   "metadata": {},
   "outputs": [],
   "source": [
    "condition = Condition()\n",
    "stop_event = Event()\n",
    "rates = Rates()\n",
    "senseHat = Sensor()\n",
    "\n",
    "def live_producer():\n",
    "    sleep(rates.seconds_per_beat)\n",
    "    pass\n",
    "def live_loop_producer(condition, stop_event):\n",
    "    while not stop_event.is_set():\n",
    "        with condition:\n",
    "            condition.notifyAll() #Message to threads\n",
    "        live_producer()\n",
    "\n",
    "def play_temp():\n",
    "    pass\n",
    "def live_loop_temp(condition, stop_event):\n",
    "     while not stop_event.is_set():\n",
    "        with condition:\n",
    "            condition.wait() #Message to threads\n",
    "        play_temp()\n",
    "\n",
    "def play_pressure():\n",
    "    pass    \n",
    "def live_loop_pressure(condition, stop_event):\n",
    "    while not stop_event.is_set():\n",
    "        with condition:\n",
    "            condition.wait() #Wait for message\n",
    "        play_pressure()\n",
    "\n",
    "def play_humidity():\n",
    "    pass\n",
    "def live_loop_humidity(condition, stop_event):\n",
    "    while not stop_event.is_set():\n",
    "        with condition:\n",
    "            condition.wait() #Wait for message\n",
    "        play_humidity()\n",
    "\n",
    "\n",
    "live_thread_producer = Thread(name=\"producer\", target=live_loop_producer, args=(condition, stop_event))\n",
    "live_thread_temp = Thread(name=\"consumer_temp\", target=live_loop_temp, args=(condition, stop_event))\n",
    "live_thread_pressure = Thread(name=\"consumer_pressure\", target=live_loop_pressure, args=(condition, stop_event))\n",
    "live_thread_humidity = Thread(name=\"consumer_humidity\", target=live_loop_humidity, args=(condition, stop_event))\n",
    "\n",
    "live_thread_producer.start()\n",
    "live_thread_temp.start()\n",
    "live_thread_pressure.start()\n",
    "live_thread_humidity.start()\n",
    "\n"
   ]
  },
  {
   "cell_type": "code",
   "execution_count": 7,
   "metadata": {},
   "outputs": [],
   "source": [
    "def play_weather(senseHat):\n",
    "    while True:\n",
    "        senseHat.touch()\n",
    "        temp = Notes([rescale(senseHat.sense.temperature_from_humidity), \n",
    "                 rescale(senseHat.sense.temperature_from_pressure)], \n",
    "                     attack = 0.5, \n",
    "                     amp = 0.5\n",
    "                    )\n",
    "        pressure = Notes([rescale(senseHat.sense.pressure) / golden_ratio],\n",
    "                         attack = 0.5, \n",
    "                         amp = 0.5\n",
    "                        )\n",
    "        humidity = Notes([rescale(senseHat.sense.humidity) / (golden_ratio ** 2)],\n",
    "                         attack = 0.5, \n",
    "                         amp = 0.5\n",
    "                        )\n",
    "        \n",
    "        global play_temp\n",
    "        def play_temp():\n",
    "            play(temp.notes, attack=temp.attack, decay=temp.decay, sustain=temp.sustain, release=temp.release, amp=temp.amp)\n",
    "            pass\n",
    "    \n",
    "        global play_pressure\n",
    "        def play_pressure():\n",
    "            play(pressure.notes, attack=pressure.attack, decay=pressure.decay, sustain=pressure.sustain, release=pressure.release, amp=pressure.amp)\n",
    "            pass\n",
    "    \n",
    "        global play_humidity\n",
    "        def play_humidity():\n",
    "            play(humidity.notes, attack=humidity.attack, decay=humidity.decay, sustain=humidity.sustain, release=humidity.release, amp=humidity.amp)\n",
    "            pass"
   ]
  },
  {
   "cell_type": "code",
   "execution_count": 8,
   "metadata": {},
   "outputs": [
    {
     "ename": "KeyboardInterrupt",
     "evalue": "",
     "output_type": "error",
     "traceback": [
      "\u001b[0;31m---------------------------------------------------------------------------\u001b[0m",
      "\u001b[0;31mKeyboardInterrupt\u001b[0m                         Traceback (most recent call last)",
      "\u001b[0;32m<ipython-input-8-12d152eaeb39>\u001b[0m in \u001b[0;36m<module>\u001b[0;34m()\u001b[0m\n\u001b[0;32m----> 1\u001b[0;31m \u001b[0mplay_weather\u001b[0m\u001b[0;34m(\u001b[0m\u001b[0msenseHat\u001b[0m\u001b[0;34m)\u001b[0m\u001b[0;34m\u001b[0m\u001b[0;34m\u001b[0m\u001b[0m\n\u001b[0m",
      "\u001b[0;32m<ipython-input-7-fabe82e3665a>\u001b[0m in \u001b[0;36mplay_weather\u001b[0;34m(senseHat)\u001b[0m\n\u001b[1;32m      1\u001b[0m \u001b[0;32mdef\u001b[0m \u001b[0mplay_weather\u001b[0m\u001b[0;34m(\u001b[0m\u001b[0msenseHat\u001b[0m\u001b[0;34m)\u001b[0m\u001b[0;34m:\u001b[0m\u001b[0;34m\u001b[0m\u001b[0;34m\u001b[0m\u001b[0m\n\u001b[1;32m      2\u001b[0m     \u001b[0;32mwhile\u001b[0m \u001b[0;32mTrue\u001b[0m\u001b[0;34m:\u001b[0m\u001b[0;34m\u001b[0m\u001b[0;34m\u001b[0m\u001b[0m\n\u001b[0;32m----> 3\u001b[0;31m         \u001b[0msenseHat\u001b[0m\u001b[0;34m.\u001b[0m\u001b[0mtouch\u001b[0m\u001b[0;34m(\u001b[0m\u001b[0;34m)\u001b[0m\u001b[0;34m\u001b[0m\u001b[0;34m\u001b[0m\u001b[0m\n\u001b[0m\u001b[1;32m      4\u001b[0m         temp = Notes([rescale(senseHat.sense.temperature_from_humidity), \n\u001b[1;32m      5\u001b[0m                  rescale(senseHat.sense.temperature_from_pressure)], \n",
      "\u001b[0;32m/home/pi/repo/piplay/weather_pilock/SenseHat_Data.py\u001b[0m in \u001b[0;36mtouch\u001b[0;34m(self)\u001b[0m\n\u001b[1;32m    129\u001b[0m         \u001b[0mself\u001b[0m\u001b[0;34m.\u001b[0m\u001b[0msensor\u001b[0m\u001b[0;34m.\u001b[0m\u001b[0mset_imu_config\u001b[0m\u001b[0;34m(\u001b[0m\u001b[0;32mTrue\u001b[0m\u001b[0;34m,\u001b[0m \u001b[0;32mTrue\u001b[0m\u001b[0;34m,\u001b[0m \u001b[0;32mTrue\u001b[0m\u001b[0;34m)\u001b[0m\u001b[0;34m\u001b[0m\u001b[0;34m\u001b[0m\u001b[0m\n\u001b[1;32m    130\u001b[0m     \u001b[0;32mdef\u001b[0m \u001b[0mtouch\u001b[0m\u001b[0;34m(\u001b[0m\u001b[0mself\u001b[0m\u001b[0;34m)\u001b[0m\u001b[0;34m:\u001b[0m\u001b[0;34m\u001b[0m\u001b[0;34m\u001b[0m\u001b[0m\n\u001b[0;32m--> 131\u001b[0;31m         \u001b[0mself\u001b[0m\u001b[0;34m.\u001b[0m\u001b[0msense\u001b[0m\u001b[0;34m.\u001b[0m\u001b[0mupdate\u001b[0m\u001b[0;34m(\u001b[0m\u001b[0mself\u001b[0m\u001b[0;34m.\u001b[0m\u001b[0msensor\u001b[0m\u001b[0;34m)\u001b[0m\u001b[0;34m\u001b[0m\u001b[0;34m\u001b[0m\u001b[0m\n\u001b[0m\u001b[1;32m    132\u001b[0m     \u001b[0;32mdef\u001b[0m \u001b[0mclear_stats\u001b[0m\u001b[0;34m(\u001b[0m\u001b[0mself\u001b[0m\u001b[0;34m)\u001b[0m\u001b[0;34m:\u001b[0m\u001b[0;34m\u001b[0m\u001b[0;34m\u001b[0m\u001b[0m\n\u001b[1;32m    133\u001b[0m         \u001b[0mself\u001b[0m\u001b[0;34m.\u001b[0m\u001b[0mdata_dict\u001b[0m\u001b[0;34m.\u001b[0m\u001b[0mclear\u001b[0m\u001b[0;34m(\u001b[0m\u001b[0;34m)\u001b[0m\u001b[0;34m\u001b[0m\u001b[0;34m\u001b[0m\u001b[0m\n",
      "\u001b[0;32m/home/pi/repo/piplay/weather_pilock/SenseHat_Data.py\u001b[0m in \u001b[0;36mupdate\u001b[0;34m(self, sensor)\u001b[0m\n\u001b[1;32m     96\u001b[0m                                 \u001b[0mself\u001b[0m\u001b[0;34m.\u001b[0m\u001b[0mpressure\u001b[0m\u001b[0;34m.\u001b[0m\u001b[0mmax_value\u001b[0m\u001b[0;34m\u001b[0m\u001b[0;34m\u001b[0m\u001b[0m\n\u001b[1;32m     97\u001b[0m                                )\n\u001b[0;32m---> 98\u001b[0;31m         self.orientation_radians = Reading(sensor.get_orientation_radians(), \n\u001b[0m\u001b[1;32m     99\u001b[0m                                            \u001b[0mself\u001b[0m\u001b[0;34m.\u001b[0m\u001b[0morientation_radians\u001b[0m\u001b[0;34m.\u001b[0m\u001b[0mmin_value\u001b[0m\u001b[0;34m,\u001b[0m\u001b[0;34m\u001b[0m\u001b[0;34m\u001b[0m\u001b[0m\n\u001b[1;32m    100\u001b[0m                                            \u001b[0mself\u001b[0m\u001b[0;34m.\u001b[0m\u001b[0morientation_radians\u001b[0m\u001b[0;34m.\u001b[0m\u001b[0mmax_value\u001b[0m\u001b[0;34m\u001b[0m\u001b[0;34m\u001b[0m\u001b[0m\n",
      "\u001b[0;32m/usr/lib/python3/dist-packages/sense_hat/sense_hat.py\u001b[0m in \u001b[0;36mget_orientation_radians\u001b[0;34m(self)\u001b[0m\n\u001b[1;32m    719\u001b[0m         \"\"\"\n\u001b[1;32m    720\u001b[0m \u001b[0;34m\u001b[0m\u001b[0m\n\u001b[0;32m--> 721\u001b[0;31m         \u001b[0mraw\u001b[0m \u001b[0;34m=\u001b[0m \u001b[0mself\u001b[0m\u001b[0;34m.\u001b[0m\u001b[0m_get_raw_data\u001b[0m\u001b[0;34m(\u001b[0m\u001b[0;34m'fusionPoseValid'\u001b[0m\u001b[0;34m,\u001b[0m \u001b[0;34m'fusionPose'\u001b[0m\u001b[0;34m)\u001b[0m\u001b[0;34m\u001b[0m\u001b[0;34m\u001b[0m\u001b[0m\n\u001b[0m\u001b[1;32m    722\u001b[0m \u001b[0;34m\u001b[0m\u001b[0m\n\u001b[1;32m    723\u001b[0m         \u001b[0;32mif\u001b[0m \u001b[0mraw\u001b[0m \u001b[0;32mis\u001b[0m \u001b[0;32mnot\u001b[0m \u001b[0;32mNone\u001b[0m\u001b[0;34m:\u001b[0m\u001b[0;34m\u001b[0m\u001b[0;34m\u001b[0m\u001b[0m\n",
      "\u001b[0;32m/usr/lib/python3/dist-packages/sense_hat/sense_hat.py\u001b[0m in \u001b[0;36m_get_raw_data\u001b[0;34m(self, is_valid_key, data_key)\u001b[0m\n\u001b[1;32m    701\u001b[0m         \u001b[0mresult\u001b[0m \u001b[0;34m=\u001b[0m \u001b[0;32mNone\u001b[0m\u001b[0;34m\u001b[0m\u001b[0;34m\u001b[0m\u001b[0m\n\u001b[1;32m    702\u001b[0m \u001b[0;34m\u001b[0m\u001b[0m\n\u001b[0;32m--> 703\u001b[0;31m         \u001b[0;32mif\u001b[0m \u001b[0mself\u001b[0m\u001b[0;34m.\u001b[0m\u001b[0m_read_imu\u001b[0m\u001b[0;34m(\u001b[0m\u001b[0;34m)\u001b[0m\u001b[0;34m:\u001b[0m\u001b[0;34m\u001b[0m\u001b[0;34m\u001b[0m\u001b[0m\n\u001b[0m\u001b[1;32m    704\u001b[0m             \u001b[0mdata\u001b[0m \u001b[0;34m=\u001b[0m \u001b[0mself\u001b[0m\u001b[0;34m.\u001b[0m\u001b[0m_imu\u001b[0m\u001b[0;34m.\u001b[0m\u001b[0mgetIMUData\u001b[0m\u001b[0;34m(\u001b[0m\u001b[0;34m)\u001b[0m\u001b[0;34m\u001b[0m\u001b[0;34m\u001b[0m\u001b[0m\n\u001b[1;32m    705\u001b[0m             \u001b[0;32mif\u001b[0m \u001b[0mdata\u001b[0m\u001b[0;34m[\u001b[0m\u001b[0mis_valid_key\u001b[0m\u001b[0;34m]\u001b[0m\u001b[0;34m:\u001b[0m\u001b[0;34m\u001b[0m\u001b[0;34m\u001b[0m\u001b[0m\n",
      "\u001b[0;32m/usr/lib/python3/dist-packages/sense_hat/sense_hat.py\u001b[0m in \u001b[0;36m_read_imu\u001b[0;34m(self)\u001b[0m\n\u001b[1;32m    688\u001b[0m \u001b[0;34m\u001b[0m\u001b[0m\n\u001b[1;32m    689\u001b[0m         \u001b[0;32mwhile\u001b[0m \u001b[0;32mnot\u001b[0m \u001b[0msuccess\u001b[0m \u001b[0;32mand\u001b[0m \u001b[0mattempts\u001b[0m \u001b[0;34m<\u001b[0m \u001b[0;36m3\u001b[0m\u001b[0;34m:\u001b[0m\u001b[0;34m\u001b[0m\u001b[0;34m\u001b[0m\u001b[0m\n\u001b[0;32m--> 690\u001b[0;31m             \u001b[0msuccess\u001b[0m \u001b[0;34m=\u001b[0m \u001b[0mself\u001b[0m\u001b[0;34m.\u001b[0m\u001b[0m_imu\u001b[0m\u001b[0;34m.\u001b[0m\u001b[0mIMURead\u001b[0m\u001b[0;34m(\u001b[0m\u001b[0;34m)\u001b[0m\u001b[0;34m\u001b[0m\u001b[0;34m\u001b[0m\u001b[0m\n\u001b[0m\u001b[1;32m    691\u001b[0m             \u001b[0mattempts\u001b[0m \u001b[0;34m+=\u001b[0m \u001b[0;36m1\u001b[0m\u001b[0;34m\u001b[0m\u001b[0;34m\u001b[0m\u001b[0m\n\u001b[1;32m    692\u001b[0m             \u001b[0mtime\u001b[0m\u001b[0;34m.\u001b[0m\u001b[0msleep\u001b[0m\u001b[0;34m(\u001b[0m\u001b[0mself\u001b[0m\u001b[0;34m.\u001b[0m\u001b[0m_imu_poll_interval\u001b[0m\u001b[0;34m)\u001b[0m\u001b[0;34m\u001b[0m\u001b[0;34m\u001b[0m\u001b[0m\n",
      "\u001b[0;31mKeyboardInterrupt\u001b[0m: "
     ]
    }
   ],
   "source": [
    "play_weather(senseHat)"
   ]
  },
  {
   "cell_type": "code",
   "execution_count": 9,
   "metadata": {},
   "outputs": [],
   "source": [
    "stop_event.set()"
   ]
  },
  {
   "cell_type": "code",
   "execution_count": null,
   "metadata": {},
   "outputs": [],
   "source": []
  }
 ],
 "metadata": {
  "kernelspec": {
   "display_name": "Python 3",
   "language": "python",
   "name": "python3"
  },
  "language_info": {
   "codemirror_mode": {
    "name": "ipython",
    "version": 3
   },
   "file_extension": ".py",
   "mimetype": "text/x-python",
   "name": "python",
   "nbconvert_exporter": "python",
   "pygments_lexer": "ipython3",
   "version": "3.7.3"
  }
 },
 "nbformat": 4,
 "nbformat_minor": 2
}
